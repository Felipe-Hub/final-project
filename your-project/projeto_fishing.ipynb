{
 "cells": [
  {
   "cell_type": "code",
   "execution_count": 285,
   "metadata": {},
   "outputs": [],
   "source": [
    "import pandas as pd\n",
    "import numpy as np\n",
    "import json\n",
    "import re"
   ]
  },
  {
   "cell_type": "markdown",
   "metadata": {},
   "source": [
    "#### Function to fish data"
   ]
  },
  {
   "cell_type": "code",
   "execution_count": 290,
   "metadata": {},
   "outputs": [],
   "source": [
    "def fisherman(x):\n",
    "    #a = re.findall(' art[^e]+ CPC', str(x))\n",
    "    #b = re.findall(' art[^e].+civil', str(x))\n",
    "    #c = re.findall(' art[^e].+cód..........', str(x))\n",
    "    #d = re.findall(' art[^e]+ Lei [\\d]+.[\\d]+', str(x))\n",
    "    #e = re.findall(' art[^e].+ Lei+ [\\d]+ de [\\d]+', str(x))\n",
    "    f = re.findall('Lei nº [\\d]+/[\\d]+', str(x))\n",
    "    g = re.findall('Lei nº [\\d]+ de [\\d]+', str(x))\n",
    "    h = re.findall('lei nº [\\d]+/[\\d]+', str(x))\n",
    "    i = re.findall('lei nº [\\d]+ de [\\d]+', str(x))\n",
    "    #j = re.findall(' art[^e].+Cód..........', str(x))\n",
    "    k = re.findall(' art[^e]......................', str(x))\n",
    "    return f+g+h+i+k"
   ]
  },
  {
   "cell_type": "markdown",
   "metadata": {},
   "source": [
    "#### Fishing for key laws\n",
    "Here we will parse the documents and separate related laws mencioned in each document."
   ]
  },
  {
   "cell_type": "code",
   "execution_count": 291,
   "metadata": {},
   "outputs": [],
   "source": [
    "# import data\n",
    "with open('labelled.json') as json_data:\n",
    "    data = json.load(json_data)\n",
    "    \n",
    "df = pd.DataFrame.from_dict(data)"
   ]
  },
  {
   "cell_type": "code",
   "execution_count": 295,
   "metadata": {},
   "outputs": [],
   "source": [
    "df['laws'] = df['main'].apply(fisherman).apply(lambda x: [i+'...' for i in x])"
   ]
  },
  {
   "cell_type": "code",
   "execution_count": 296,
   "metadata": {},
   "outputs": [
    {
     "data": {
      "text/plain": [
       "['Lei nº 41/2013...',\n",
       " ' art. 671º do CPC. II.    I...',\n",
       " ' arts. 456º e ss do CPC ant...']"
      ]
     },
     "execution_count": 296,
     "metadata": {},
     "output_type": "execute_result"
    }
   ],
   "source": [
    "df['main'][0]\n",
    "df['laws'][0]"
   ]
  },
  {
   "cell_type": "code",
   "execution_count": null,
   "metadata": {},
   "outputs": [],
   "source": []
  },
  {
   "cell_type": "code",
   "execution_count": null,
   "metadata": {},
   "outputs": [],
   "source": []
  }
 ],
 "metadata": {
  "kernelspec": {
   "display_name": "Python 3",
   "language": "python",
   "name": "python3"
  },
  "language_info": {
   "codemirror_mode": {
    "name": "ipython",
    "version": 3
   },
   "file_extension": ".py",
   "mimetype": "text/x-python",
   "name": "python",
   "nbconvert_exporter": "python",
   "pygments_lexer": "ipython3",
   "version": "3.7.4"
  }
 },
 "nbformat": 4,
 "nbformat_minor": 2
}
